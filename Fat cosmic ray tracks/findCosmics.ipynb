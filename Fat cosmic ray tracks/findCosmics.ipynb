{
 "cells": [
  {
   "cell_type": "markdown",
   "id": "elegant-indonesia",
   "metadata": {},
   "source": [
    "Notebook was run at NCSA, so requires a similar setup"
   ]
  },
  {
   "cell_type": "code",
   "execution_count": 1,
   "id": "c848fdf1",
   "metadata": {},
   "outputs": [],
   "source": [
    "import lsst.daf.butler as dafButler\n",
    "import lsst.afw.detection as afwDetect\n",
    "import lsst.afw.math as afwMath\n",
    "from lsst.ip.isr.isrTask import IsrTask\n",
    "import numpy as np\n",
    "import matplotlib.pyplot as plt\n",
    "\n",
    "from astropy.io import fits\n",
    "import os"
   ]
  },
  {
   "cell_type": "code",
   "execution_count": 2,
   "id": "4cc3edc2",
   "metadata": {},
   "outputs": [],
   "source": [
    "butler = dafButler.Butler('/repo/main', collections=['LSSTComCam/raw/all',\n",
    "                                                     'LSSTComCam/calib',\n",
    "                                                     'LSSTComCam/calib/u/plazas/2021NOV11.2'],\n",
    "                          instrument='LSSTComCam')"
   ]
  },
  {
   "cell_type": "code",
   "execution_count": 3,
   "id": "2ee7ec9a",
   "metadata": {},
   "outputs": [],
   "source": [
    "isrConfig = IsrTask.ConfigClass()\n",
    "isrConfig.doLinearize = False\n",
    "isrConfig.doBias = True\n",
    "isrConfig.doFlat = False\n",
    "isrConfig.doDark = False\n",
    "isrConfig.doFringe = False\n",
    "isrConfig.doDefect = False\n",
    "isrConfig.doWrite = False\n",
    "isrConfig.doApplyGains = True\n",
    "\n",
    "isrTask = IsrTask(config=isrConfig)"
   ]
  },
  {
   "cell_type": "code",
   "execution_count": 4,
   "id": "c276a837",
   "metadata": {},
   "outputs": [],
   "source": [
    "def detectObjectsInExp(exp, nSigma=10, nPixMin=10, grow=0):\n",
    "    \"\"\"Return the footPrintSet for the objects in a postISR exposure.\"\"\"\n",
    "    median = np.nanmedian(exp.image.array)\n",
    "    exp.image -= median\n",
    "\n",
    "    threshold = afwDetect.Threshold(nSigma, afwDetect.Threshold.STDEV)\n",
    "    footPrintSet = afwDetect.FootprintSet(exp.getMaskedImage(), threshold, \"DETECTED\", nPixMin)\n",
    "    if grow > 0:\n",
    "        isotropic = True\n",
    "        footPrintSet = afwDetect.FootprintSet(footPrintSet, grow, isotropic)\n",
    "\n",
    "    exp.image += median  # add back in to leave background unchanged\n",
    "    return footPrintSet"
   ]
  },
  {
   "cell_type": "code",
   "execution_count": null,
   "id": "e31981ea",
   "metadata": {},
   "outputs": [],
   "source": [
    "# seqnum=134\n",
    "for seqnum in range(134,146):\n",
    "    for ccd in range(9):\n",
    "        dataId = {'day_obs': 20211118, 'seq_num': seqnum, 'detector': ccd}\n",
    "        raw = butler.get('raw', dataId)\n",
    "        bias = butler.get('bias', dataId)\n",
    "        postIsr = isrTask.run(raw, bias=bias).exposure\n",
    "\n",
    "        fpSet = detectObjectsInExp(postIsr, nPixMin=20)\n",
    "        footprints = fpSet.getFootprints()\n",
    "\n",
    "        nTracks = len(footprints)\n",
    "        print(f'Writing {nTracks} tracks to cosmicFits2/{seqnum}')\n",
    "\n",
    "        for srcNum, footprint in enumerate(footprints):\n",
    "            flux = footprint.getArea\n",
    "            box = footprint.getBBox()\n",
    "            cutout = postIsr[box]\n",
    "            flux = np.sum(cutout.image.array)\n",
    "            width, height = box.getDimensions()\n",
    "            aspect_ratio = max(width/height, height/width)  # whichever is longest\n",
    "            # print(f'{srcNum}: area={footprint.getArea()}, aspect:{aspect_ratio:.1f}, flux={flux:.1f}')\n",
    "            name = f'cosmicFits2/{seqnum}/{ccd}_{box.beginX}_{box.beginY}.fits'\n",
    "            # print('Writing to:', name)\n",
    "            if not os.path.exists(f'cosmicFits2/{seqnum}'):\n",
    "                os.makedirs(f'cosmicFits2/{seqnum}')\n",
    "            if not os.path.exists(name):\n",
    "                fits.HDUList([fits.PrimaryHDU(),fits.ImageHDU(cutout.image.array)]).writeto(name)"
   ]
  },
  {
   "cell_type": "code",
   "execution_count": null,
   "id": "c2ababc1-6276-48d9-aa72-8e292ccd05c7",
   "metadata": {},
   "outputs": [],
   "source": []
  },
  {
   "cell_type": "code",
   "execution_count": null,
   "id": "54b6d90a-8577-4eff-b7ce-0a7c9d432159",
   "metadata": {},
   "outputs": [],
   "source": []
  },
  {
   "cell_type": "code",
   "execution_count": null,
   "id": "3e163f1e-0298-46a9-8ddd-ed0ce29ecc46",
   "metadata": {},
   "outputs": [],
   "source": []
  },
  {
   "cell_type": "code",
   "execution_count": null,
   "id": "67f494e2-1e05-4142-8b59-75e6c1394fa2",
   "metadata": {},
   "outputs": [],
   "source": []
  }
 ],
 "metadata": {
  "kernelspec": {
   "display_name": "Python 3",
   "language": "python",
   "name": "python3"
  },
  "language_info": {
   "codemirror_mode": {
    "name": "ipython",
    "version": 3
   },
   "file_extension": ".py",
   "mimetype": "text/x-python",
   "name": "python",
   "nbconvert_exporter": "python",
   "pygments_lexer": "ipython3",
   "version": "3.7.9"
  }
 },
 "nbformat": 4,
 "nbformat_minor": 5
}
