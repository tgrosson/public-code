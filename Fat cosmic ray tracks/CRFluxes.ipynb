{
 "cells": [
  {
   "cell_type": "markdown",
   "id": "sustainable-continent",
   "metadata": {},
   "source": [
    "Gaisser:\n",
    "\n",
    "$\\mu(E_\\mu,X) = \\int_0^X P_\\mu(E_\\mu,X) dX$\n",
    "\n",
    "$P_\\mu(E,X) = \\frac{\\epsilon_\\pi}{X\\cos{\\theta}(1-r_\\pi)} \\int_{E_\\mu}^{E_\\mu/r_\\pi} \\frac{\\Pi(E,X)}{E} \\frac{dE}{E} + \\frac{0.635\\epsilon_K}{X\\cos{\\theta}(1-r_K)} \\int_{E_\\mu}^{E_\\mu/r_K} \\frac{K(E,X)}{E} \\frac{dE}{E}$\n",
    "\n",
    "$\\Pi(E,X) = e^{-(X/\\Lambda_\\pi)} \\frac{Z_{N\\pi}}{\\lambda_N} N_0(E) \\int_0^X (\\frac{X'}{X})^{\\epsilon_\\pi/E\\cos{\\theta}} \\exp{(\\frac{X'}{\\Lambda_\\pi} - \\frac{X'}{\\Lambda_N})dX'}$, and similar for $K(E,X)$\n",
    "\n",
    "$K(E,X) = e^{-(X/\\Lambda_K)} \\frac{Z_{NK}}{\\lambda_N} N_0(E) \\int_0^X (\\frac{X'}{X})^{\\epsilon_K/E\\cos{\\theta}} \\exp{(\\frac{X'}{\\Lambda_K} - \\frac{X'}{\\Lambda_N})dX'}$\n",
    "\n",
    "$\\epsilon_{\\mu^\\pm}=1,\\ \\epsilon_{\\pi^\\pm}=115,\\ \\epsilon_{K^\\pm}=850$ (GeV, Table 3.1)\n",
    "\n",
    "$Z_{pp}=0.263,\\ Z_{p\\pi^+}=0.046,\\ Z_{p\\pi^-}=0.033,\\ Z_{pK^+}=0.0090,\\ Z_{pK^-}=0.0028$ (Table 5.2)\n",
    "\n",
    "$\\Lambda_N=120,\\ \\Lambda_\\pi=160,\\ \\Lambda_K=180$ (g/cm^2, Table 3.2)\n",
    "\n",
    "$\\Lambda_i = \\lambda_i (1-Z_{ii})^{-1} \\Rightarrow \\lambda_p=151.56$ g/cm^2\n",
    "\n",
    "$N_0(E) = 1.8\\times 10^4 E^{-2.7}$ nuc cm^-2 s^-1 sr^-1 GeV^-1\n",
    "\n",
    "$r_\\pi=(m_\\mu/m_\\pi)^2=0.5731 ,\\ r_K=(m_\\mu/m_K)^2=0.0458$"
   ]
  },
  {
   "cell_type": "code",
   "execution_count": 1,
   "id": "developed-might",
   "metadata": {},
   "outputs": [],
   "source": [
    "import numpy as np\n",
    "import matplotlib.pyplot as plt\n",
    "from scipy.integrate import quad\n",
    "from scipy.interpolate import InterpolatedUnivariateSpline\n",
    "\n",
    "#define constants\n",
    "Lamb_pi = 160.\n",
    "Lamb_K = 180.\n",
    "Lamb_N = 120.\n",
    "Z_Npi = 0.046\n",
    "Z_NK = 0.009\n",
    "lamb_N = 152.\n",
    "eps_mu = 1.\n",
    "eps_pi = 115.\n",
    "eps_K = 850.\n",
    "r_pi = 0.5731\n",
    "r_K = 0.0458\n",
    "\n",
    "#define Energy and Atmospheric depth ranges\n",
    "E = 10**(np.arange(0,8.25,0.25)/4) # GeV\n",
    "X = np.linspace(0,1030,100) # g cm^-2"
   ]
  },
  {
   "cell_type": "code",
   "execution_count": 2,
   "id": "seven-american",
   "metadata": {},
   "outputs": [],
   "source": [
    "#calcuate nucleon flux N(E,X)\n",
    "\n",
    "N = np.zeros((len(E),len(X)))\n",
    "for i,j in np.ndindex(N.shape):\n",
    "    N[i,j] = 1.8e4 * np.exp(-X[j]/120) * E[i]**(-2.7)"
   ]
  },
  {
   "cell_type": "markdown",
   "id": "simplified-fundamentals",
   "metadata": {},
   "source": [
    "$\\Pi(E,X) = e^{-(X/\\Lambda_\\pi)} \\frac{Z_{N\\pi}}{\\lambda_N} N_0(E) \\int_0^X (\\frac{X'}{X})^{\\epsilon_\\pi/E\\cos{\\theta}} \\exp{(\\frac{X'}{\\Lambda_\\pi} - \\frac{X'}{\\Lambda_N})dX'}$, and similar for $K(E,X)$\n",
    "\n",
    "$K(E,X) = e^{-(X/\\Lambda_K)} \\frac{Z_{NK}}{\\lambda_N} N_0(E) \\int_0^X (\\frac{X'}{X})^{\\epsilon_K/E\\cos{\\theta}} \\exp{(\\frac{X'}{\\Lambda_K} - \\frac{X'}{\\Lambda_N})dX'}$"
   ]
  },
  {
   "cell_type": "code",
   "execution_count": 3,
   "id": "listed-christianity",
   "metadata": {},
   "outputs": [
    {
     "name": "stderr",
     "output_type": "stream",
     "text": [
      "C:\\Users\\tgrosson\\AppData\\Roaming\\Python\\Python37\\site-packages\\ipykernel_launcher.py:7: RuntimeWarning: invalid value encountered in double_scalars\n",
      "  import sys\n",
      "C:\\Users\\tgrosson\\AppData\\Roaming\\Python\\Python37\\site-packages\\ipykernel_launcher.py:12: IntegrationWarning: Extremely bad integrand behavior occurs at some points of the\n",
      "  integration interval.\n",
      "  if sys.path[0] == '':\n",
      "C:\\Users\\tgrosson\\AppData\\Roaming\\Python\\Python37\\site-packages\\ipykernel_launcher.py:9: RuntimeWarning: invalid value encountered in double_scalars\n",
      "  if __name__ == '__main__':\n",
      "C:\\Users\\tgrosson\\AppData\\Roaming\\Python\\Python37\\site-packages\\ipykernel_launcher.py:13: IntegrationWarning: Extremely bad integrand behavior occurs at some points of the\n",
      "  integration interval.\n",
      "  del sys.path[0]\n"
     ]
    }
   ],
   "source": [
    "#calculate pion and kaon flux Pi(E,X), K(E,X)\n",
    "\n",
    "Pi = np.zeros((len(E),len(X)))\n",
    "K = np.zeros((len(E),len(X)))\n",
    "\n",
    "def Pi_integrand(x, energy, depth):\n",
    "    return (x/depth)**(eps_pi/energy) * np.exp(x/Lamb_pi - x/Lamb_N)\n",
    "def K_integrand(x, energy, depth):\n",
    "    return (x/depth)**(eps_K/energy) * np.exp(x/Lamb_K - x/Lamb_N)\n",
    "\n",
    "for i,j in np.ndindex(N.shape):\n",
    "    Pi[i,j] = np.exp(-X[j]/Lamb_pi) * Z_Npi/lamb_N * 1.8e4*E[i]**(-2.7) * quad(Pi_integrand, 0, X[j], args=(E[i],X[j]))[0]\n",
    "    K[i,j] = np.exp(-X[j]/Lamb_K) * Z_NK/lamb_N * 1.8e4*E[i]**(-2.7) * quad(K_integrand, 0, X[j], args=(E[i],X[j]))[0]"
   ]
  },
  {
   "cell_type": "markdown",
   "id": "lovely-accreditation",
   "metadata": {},
   "source": [
    "$P_\\mu(E,X) = \\frac{\\epsilon_\\pi}{X\\cos{\\theta}(1-r_\\pi)} \\int_{E_\\mu}^{E_\\mu/r_\\pi} \\frac{\\Pi(E,X)}{E} \\frac{dE}{E} + \\frac{0.635\\epsilon_K}{X\\cos{\\theta}(1-r_K)} \\int_{E_\\mu}^{E_\\mu/r_K} \\frac{K(E,X)}{E} \\frac{dE}{E}$"
   ]
  },
  {
   "cell_type": "code",
   "execution_count": 4,
   "id": "considered-amazon",
   "metadata": {},
   "outputs": [
    {
     "name": "stderr",
     "output_type": "stream",
     "text": [
      "C:\\Users\\tgrosson\\AppData\\Roaming\\Python\\Python37\\site-packages\\ipykernel_launcher.py:5: RuntimeWarning: divide by zero encountered in double_scalars\n",
      "  \"\"\"\n",
      "C:\\Users\\tgrosson\\AppData\\Roaming\\Python\\Python37\\site-packages\\ipykernel_launcher.py:6: RuntimeWarning: divide by zero encountered in double_scalars\n",
      "  \n"
     ]
    }
   ],
   "source": [
    "#calculate muon production spectrum P_mu(E,X)\n",
    "\n",
    "P_mu = np.zeros((len(E),len(X)))\n",
    "for j in range(len(X)):\n",
    "    c_pi = eps_pi/(X[j]*(1-r_pi))\n",
    "    c_K = 0.635*eps_K/(X[j]*(1-r_K))\n",
    "    \n",
    "    intp_pi = InterpolatedUnivariateSpline(E, Pi[:,j]/E**2, k=1)\n",
    "    intp_K = InterpolatedUnivariateSpline(E, K[:,j]/E**2, k=1)\n",
    "    \n",
    "    for i in range(len(E)):\n",
    "        int_pi = intp_pi.integral(E[i], E[i]/r_pi)\n",
    "        int_K = intp_K.integral(E[i], E[i]/r_K)\n",
    "        \n",
    "        P_mu[i,j] = c_pi*int_pi + c_K*int_K"
   ]
  },
  {
   "cell_type": "markdown",
   "id": "resistant-appreciation",
   "metadata": {},
   "source": [
    "From Lipari Eq 56, muon energy loss term:\n",
    "\n",
    "$p_{surv}(E,X,X_0,\\theta) = \\exp{(-\\frac{m_\\mu}{c\\tau_\\mu} \\int_{X_0}^{X_f} \\frac{dX}{E(X-X_0,E_0)\\rho(X,\\theta)})}$\n",
    "\n",
    "air density $\\rho(X,\\theta)$ is just $X/6.334$ for our purposes\n",
    "\n",
    "$\\frac{m_\\mu}{c\\tau_\\mu} = 1.603\\times 10^{-6}$ GeV cm^-1\n",
    "\n",
    "Approximating energy loss as $E(X-X_0,E_0) \\approx E_0 - 1.82\\times 10^{-3} (X-X_0)$ (GeV, X in g cm^-2, MIP in air)\n",
    "\n",
    "$\\Rightarrow p_{surv}(E,X_f,X_0) = \\exp{(-6.334*1.603\\times 10^{-6} \\int_{X_0}^{X_f} \\frac{dX}{X (E_0 - 0.00182(X-X_0))})}$"
   ]
  },
  {
   "cell_type": "code",
   "execution_count": 5,
   "id": "broad-universe",
   "metadata": {},
   "outputs": [
    {
     "name": "stderr",
     "output_type": "stream",
     "text": [
      "C:\\Users\\tgrosson\\AppData\\Roaming\\Python\\Python37\\site-packages\\ipykernel_launcher.py:6: RuntimeWarning: divide by zero encountered in true_divide\n",
      "  \n"
     ]
    }
   ],
   "source": [
    "#calculate probability of observing a muon given energy loss p_surv(E,X,X0)\n",
    "\n",
    "p_surv = np.zeros((len(E),len(X),len(X)))\n",
    "for i,j in np.ndindex(N.shape):\n",
    "    for k in range(j+1):\n",
    "        integrand = 1 / (X[k:j+1] * (E[i] - 0.00182*(X[k:j+1]-X[k])))\n",
    "        p_surv[i,j,k] = np.exp(-6.334*1.603e-6 * np.trapz(integrand, x=X[k:j+1]))"
   ]
  },
  {
   "cell_type": "markdown",
   "id": "lonely-march",
   "metadata": {},
   "source": [
    "integrate over muon decay, production, and energy loss\n",
    "\n",
    "$\\mu(E_\\mu,X) = \\int_0^X (\\frac{X'}{X})^{\\epsilon_\\mu/E}\\ P_\\mu(E_\\mu,X')\\ p_{surv}(E_\\mu,X,X')\\ dX'$"
   ]
  },
  {
   "cell_type": "code",
   "execution_count": 11,
   "id": "lesser-theory",
   "metadata": {},
   "outputs": [],
   "source": [
    "#calculate muon flux mu(E,X)\n",
    "\n",
    "mu = np.zeros((len(E),len(X)))\n",
    "for i,j in np.ndindex(N.shape):\n",
    "    integrand = (X[1:j+1]/X[j])**(eps_mu/E[i]) * P_mu[i,1:j+1] * p_surv[i,j,1:j+1]\n",
    "    mu[i,j] = np.trapz(integrand, x=X[1:j+1])"
   ]
  },
  {
   "cell_type": "code",
   "execution_count": 7,
   "id": "classified-midwest",
   "metadata": {},
   "outputs": [],
   "source": [
    "#function to convert atmospheric depth to altitude (Gaisser Eq 3.22)\n",
    "\n",
    "def X2h(X):\n",
    "    if X<=25:\n",
    "        return 47.05 + 6.9*np.log(X) + 0.299*np.log(X/10)**2\n",
    "    elif X>25 and X<=230:\n",
    "        return 45.5 - 6.34*np.log(X)\n",
    "    return 44.34 - 11.861*X**0.19\n",
    "\n",
    "def h2X(h):\n",
    "    if h>=X2h(25):\n",
    "        return np.exp(0.000083612 * (3.6056*np.sqrt(36800000*h - 851191923) - 110461))\n",
    "    elif h<X2h(230) and h>=X2h(25):\n",
    "        return np.exp((45.5-h)/6.34)\n",
    "    return ((44.34-h)/11.861)**(1/0.19)"
   ]
  },
  {
   "cell_type": "code",
   "execution_count": 12,
   "id": "loose-brother",
   "metadata": {},
   "outputs": [
    {
     "data": {
      "text/plain": [
       "Text(0.5, 0, 'Altitude (km)')"
      ]
     },
     "execution_count": 12,
     "metadata": {},
     "output_type": "execute_result"
    },
    {
     "data": {
      "image/png": "[encoded data removed]",
      "text/plain": [
       "<Figure size 432x648 with 2 Axes>"
      ]
     },
     "metadata": {
      "needs_background": "light"
     },
     "output_type": "display_data"
    }
   ],
   "source": [
    "#plot them\n",
    "\n",
    "N_flux = np.trapz(N,E,axis=0)\n",
    "Pi_flux = np.trapz(Pi,E,axis=0)\n",
    "K_flux = np.trapz(K,E,axis=0)\n",
    "mu_flux = np.trapz(mu,E,axis=0)\n",
    "\n",
    "plt.figure(figsize=(6,9))\n",
    "plt.plot(X, N_flux, label='Nucleons')\n",
    "plt.plot(X ,Pi_flux, label='Pions')\n",
    "# plt.plot(X, K_flux, label='')\n",
    "plt.plot(X, mu_flux, label='Muons')\n",
    "plt.yscale('log')\n",
    "plt.tick_params(which='both',right=True,labelright=True)\n",
    "plt.legend()\n",
    "plt.xlabel(r'Atmospheric depth (g cm$^{-2}$)')\n",
    "plt.ylabel(r'Vertical flux (m$^{-2}$ s$^{-1}$ sr$^{-1}$)')\n",
    "plt.xlim(0,1030)\n",
    "\n",
    "ax1 = plt.gca()\n",
    "ax2 = ax1.twiny()\n",
    "newlocs = [h2X(20),h2X(15),h2X(10),h2X(5),h2X(3),h2X(2),h2X(1),h2X(0)]\n",
    "newlabs = [20,15,10,5,3,2,1,0]\n",
    "ax2.set_xlim(ax1.get_xlim())\n",
    "ax2.set_xticks(newlocs)\n",
    "ax2.set_xticklabels(newlabs)\n",
    "ax2.set_xlabel('Altitude (km)')"
   ]
  }
 ],
 "metadata": {
  "kernelspec": {
   "display_name": "Python 3",
   "language": "python",
   "name": "python3"
  },
  "language_info": {
   "codemirror_mode": {
    "name": "ipython",
    "version": 3
   },
   "file_extension": ".py",
   "mimetype": "text/x-python",
   "name": "python",
   "nbconvert_exporter": "python",
   "pygments_lexer": "ipython3",
   "version": "3.7.9"
  }
 },
 "nbformat": 4,
 "nbformat_minor": 5
}
